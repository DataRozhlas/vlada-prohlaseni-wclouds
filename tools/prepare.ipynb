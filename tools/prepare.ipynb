{
 "cells": [
  {
   "cell_type": "code",
   "execution_count": 31,
   "metadata": {},
   "outputs": [],
   "source": [
    "import os\n",
    "import pandas as pd\n",
    "import json"
   ]
  },
  {
   "cell_type": "code",
   "execution_count": 92,
   "metadata": {},
   "outputs": [],
   "source": [
    "out = {}\n",
    "for f in os.listdir('./'):\n",
    "    if f.endswith('.csv') :\n",
    "        temp = pd.read_csv('./' + f, skiprows=2)[['Item', 'Freq']].values\n",
    "        out[f.split('.')[0]] = []\n",
    "        \n",
    "        for val in temp:\n",
    "            v = int(val[1])\n",
    "            if v > 2:\n",
    "                out[f.split('.')[0]].append({'name': val[0], 'weight': v})"
   ]
  },
  {
   "cell_type": "code",
   "execution_count": 93,
   "metadata": {},
   "outputs": [],
   "source": [
    "o = []\n",
    "for key in out:\n",
    "    if len(out[key]) <= 3:\n",
    "        o.append(key)"
   ]
  },
  {
   "cell_type": "code",
   "execution_count": 94,
   "metadata": {},
   "outputs": [],
   "source": [
    "for x in o:\n",
    "    out.pop(x, None)"
   ]
  },
  {
   "cell_type": "code",
   "execution_count": 95,
   "metadata": {},
   "outputs": [],
   "source": [
    "with open('../data.js', 'w', encoding='utf-8') as f:\n",
    "    f.write('var vlady = ' + str(out) + ';')"
   ]
  }
 ],
 "metadata": {
  "kernelspec": {
   "display_name": "Python 3",
   "language": "python",
   "name": "python3"
  },
  "language_info": {
   "codemirror_mode": {
    "name": "ipython",
    "version": 3
   },
   "file_extension": ".py",
   "mimetype": "text/x-python",
   "name": "python",
   "nbconvert_exporter": "python",
   "pygments_lexer": "ipython3",
   "version": "3.6.5"
  }
 },
 "nbformat": 4,
 "nbformat_minor": 2
}
